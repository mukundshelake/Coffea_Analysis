{
 "cells": [
  {
   "cell_type": "code",
   "execution_count": 1,
   "metadata": {},
   "outputs": [],
   "source": [
    "from coffea.util import load\n",
    "import json\n",
    "import matplotlib.pyplot as plt\n",
    "from matplotlib.backends.backend_pdf import PdfPages\n",
    "import pandas as pd\n",
    "out = load(\"outputs/Output.coffea\")"
   ]
  },
  {
   "cell_type": "code",
   "execution_count": 5,
   "metadata": {},
   "outputs": [
    {
     "data": {
      "text/plain": [
       "dict_keys(['DoubleMuon'])"
      ]
     },
     "execution_count": 5,
     "metadata": {},
     "output_type": "execute_result"
    }
   ],
   "source": [
    "out.keys()"
   ]
  },
  {
   "cell_type": "code",
   "execution_count": 2,
   "metadata": {},
   "outputs": [
    {
     "name": "stdout",
     "output_type": "stream",
     "text": [
      "Working on UL2016preVFP\n"
     ]
    },
    {
     "ename": "KeyError",
     "evalue": "'UL2016preVFP'",
     "output_type": "error",
     "traceback": [
      "\u001b[0;31m---------------------------------------------------------------------------\u001b[0m",
      "\u001b[0;31mKeyError\u001b[0m                                  Traceback (most recent call last)",
      "\u001b[1;32m/home/mukund/Projects/updatedCoffea/Coffea_Analysis/src/Scripts/Trial.ipynb Cell 2\u001b[0m line \u001b[0;36m1\n\u001b[1;32m      <a href='vscode-notebook-cell:/home/mukund/Projects/updatedCoffea/Coffea_Analysis/src/Scripts/Trial.ipynb#W1sZmlsZQ%3D%3D?line=7'>8</a>\u001b[0m \u001b[39mprint\u001b[39m(\u001b[39mf\u001b[39m\u001b[39m\"\u001b[39m\u001b[39mWorking on \u001b[39m\u001b[39m{\u001b[39;00mera\u001b[39m}\u001b[39;00m\u001b[39m\"\u001b[39m)\n\u001b[1;32m      <a href='vscode-notebook-cell:/home/mukund/Projects/updatedCoffea/Coffea_Analysis/src/Scripts/Trial.ipynb#W1sZmlsZQ%3D%3D?line=8'>9</a>\u001b[0m df \u001b[39m=\u001b[39m pd\u001b[39m.\u001b[39mDataFrame(columns \u001b[39m=\u001b[39m [\u001b[39m'\u001b[39m\u001b[39my0\u001b[39m\u001b[39m'\u001b[39m, \u001b[39m'\u001b[39m\u001b[39mA\u001b[39m\u001b[39m'\u001b[39m, \u001b[39m'\u001b[39m\u001b[39mA_\u001b[39m\u001b[39m'\u001b[39m, \u001b[39m'\u001b[39m\u001b[39mB\u001b[39m\u001b[39m'\u001b[39m, \u001b[39m'\u001b[39m\u001b[39mD\u001b[39m\u001b[39m'\u001b[39m, \u001b[39m'\u001b[39m\u001b[39mC\u001b[39m\u001b[39m'\u001b[39m, \u001b[39m'\u001b[39m\u001b[39mC_\u001b[39m\u001b[39m'\u001b[39m, \u001b[39m'\u001b[39m\u001b[39minFactor\u001b[39m\u001b[39m'\u001b[39m, \u001b[39m'\u001b[39m\u001b[39moutFactor\u001b[39m\u001b[39m'\u001b[39m, \u001b[39m'\u001b[39m\u001b[39mC1\u001b[39m\u001b[39m'\u001b[39m, \u001b[39m'\u001b[39m\u001b[39mC2\u001b[39m\u001b[39m'\u001b[39m, \u001b[39m'\u001b[39m\u001b[39mC3\u001b[39m\u001b[39m'\u001b[39m, \u001b[39m'\u001b[39m\u001b[39mC4\u001b[39m\u001b[39m'\u001b[39m, \u001b[39m'\u001b[39m\u001b[39mAin\u001b[39m\u001b[39m'\u001b[39m, \u001b[39m'\u001b[39m\u001b[39mAout\u001b[39m\u001b[39m'\u001b[39m])\n\u001b[0;32m---> <a href='vscode-notebook-cell:/home/mukund/Projects/updatedCoffea/Coffea_Analysis/src/Scripts/Trial.ipynb#W1sZmlsZQ%3D%3D?line=9'>10</a>\u001b[0m ytHigher \u001b[39m=\u001b[39m out[\u001b[39mf\u001b[39;49m\u001b[39m\"\u001b[39;49m\u001b[39m{\u001b[39;49;00mera\u001b[39m}\u001b[39;49;00m\u001b[39m\"\u001b[39;49m][\u001b[39mf\u001b[39m\u001b[39m\"\u001b[39m\u001b[39m{\u001b[39;00mera\u001b[39m}\u001b[39;00m\u001b[39m\"\u001b[39m][\u001b[39m\"\u001b[39m\u001b[39myMatrix_higherYt\u001b[39m\u001b[39m\"\u001b[39m]\n\u001b[1;32m     <a href='vscode-notebook-cell:/home/mukund/Projects/updatedCoffea/Coffea_Analysis/src/Scripts/Trial.ipynb#W1sZmlsZQ%3D%3D?line=10'>11</a>\u001b[0m ytbarHigher \u001b[39m=\u001b[39m out[\u001b[39mf\u001b[39m\u001b[39m\"\u001b[39m\u001b[39m{\u001b[39;00mera\u001b[39m}\u001b[39;00m\u001b[39m\"\u001b[39m][\u001b[39mf\u001b[39m\u001b[39m\"\u001b[39m\u001b[39m{\u001b[39;00mera\u001b[39m}\u001b[39;00m\u001b[39m\"\u001b[39m][\u001b[39m\"\u001b[39m\u001b[39myMatrix_higherYtbar\u001b[39m\u001b[39m\"\u001b[39m]\n\u001b[1;32m     <a href='vscode-notebook-cell:/home/mukund/Projects/updatedCoffea/Coffea_Analysis/src/Scripts/Trial.ipynb#W1sZmlsZQ%3D%3D?line=12'>13</a>\u001b[0m ytHigher_yt \u001b[39m=\u001b[39m ytHigher\u001b[39m.\u001b[39mproject(\u001b[39m'\u001b[39m\u001b[39my_t\u001b[39m\u001b[39m'\u001b[39m)\n",
      "\u001b[0;31mKeyError\u001b[0m: 'UL2016preVFP'"
     ]
    }
   ],
   "source": [
    "ymax = 2.5j\n",
    "Fu = 0.6034\n",
    "Fd = 0.3966\n",
    "Du = 0.6264\n",
    "Dd = 0.4098\n",
    "\n",
    "for era in ['UL2016preVFP', 'UL2016postVFP', 'UL2017', 'UL2018']:\n",
    "    print(f\"Working on {era}\")\n",
    "    df = pd.DataFrame(columns = ['y0', 'A', 'A_', 'B', 'D', 'C', 'C_', 'inFactor', 'outFactor', 'C1', 'C2', 'C3', 'C4', 'Ain', 'Aout'])\n",
    "    ytHigher = out[f\"{era}\"][f\"{era}\"][\"yMatrix_higherYt\"]\n",
    "    ytbarHigher = out[f\"{era}\"][f\"{era}\"][\"yMatrix_higherYtbar\"]\n",
    "\n",
    "    ytHigher_yt = ytHigher.project('y_t')\n",
    "    ytHigher_ytbar = ytHigher.project('y_tbar')\n",
    "\n",
    "    ytbarHigher_yt = ytbarHigher.project('y_t')\n",
    "    ytbarHigher_ytbar = ytbarHigher.project('y_tbar')\n",
    "    for i in range(24):\n",
    "        y0 = (i+1)*0.1\n",
    "        slice_y0 = y0*1j\n",
    "        # print(y0, slice_y0)\n",
    "        A = ytHigher[0j:slice_y0,0:slice_y0].sum()\n",
    "        B = ytHigher[slice_y0:ymax,0:slice_y0].sum()\n",
    "        C = ytHigher[slice_y0:ymax,slice_y0:ymax].sum()\n",
    "\n",
    "\n",
    "        A_ = ytbarHigher[0j:slice_y0,0:slice_y0].sum()\n",
    "        D =  ytbarHigher[0:slice_y0, slice_y0:ymax].sum()\n",
    "        C_ = ytbarHigher[slice_y0:ymax,slice_y0:ymax].sum()\n",
    "\n",
    "        inFactor = -(1/(1+2*((A+A_)/(B+D))))\n",
    "        outFactor = 1/(1+2*((C+C_)/(B+D)))\n",
    "\n",
    "        C1 = inFactor*Du*Fu\n",
    "        C2 = inFactor*Dd*Fd\n",
    "        C3 = outFactor*Du*Fu\n",
    "        C4 = outFactor*Dd*Fd\n",
    "\n",
    "        Ain = (D-B)/(D+B+A+A_)\n",
    "        Aout = (B-D)/(D+B+C+C_)\n",
    "\n",
    "        lst = [y0, A, A_, B, D, C, C_, inFactor, outFactor, C1, C2, C3, C4, Ain, Aout]\n",
    "        df.loc[i] = lst\n",
    "    # print(f\"{era}\")\n",
    "    df.to_json(f\"{era}_results.json\")\n",
    "    with open(f\"{era}_results.json\", 'r') as file:\n",
    "        data = json.load(file)\n",
    "\n",
    "    # Writing it back with indentation for better readability\n",
    "    with open(f\"{era}_results.json\", 'w') as file:\n",
    "        json.dump(data, file, indent=4) "
   ]
  },
  {
   "cell_type": "code",
   "execution_count": null,
   "metadata": {},
   "outputs": [],
   "source": []
  }
 ],
 "metadata": {
  "kernelspec": {
   "display_name": "coffeaenv",
   "language": "python",
   "name": "python3"
  },
  "language_info": {
   "codemirror_mode": {
    "name": "ipython",
    "version": 3
   },
   "file_extension": ".py",
   "mimetype": "text/x-python",
   "name": "python",
   "nbconvert_exporter": "python",
   "pygments_lexer": "ipython3",
   "version": "3.12.1"
  }
 },
 "nbformat": 4,
 "nbformat_minor": 2
}
